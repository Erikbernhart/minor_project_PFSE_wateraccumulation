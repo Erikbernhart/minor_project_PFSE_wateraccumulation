{
 "cells": [
  {
   "cell_type": "code",
   "execution_count": 7,
   "id": "25902eda-2e40-47bd-ab9a-425f553b70d4",
   "metadata": {},
   "outputs": [],
   "source": [
    "import handcalcs.render\n"
   ]
  },
  {
   "cell_type": "code",
   "execution_count": 9,
   "id": "eb79a590-ec20-4e75-8309-a5ca2de58bf7",
   "metadata": {},
   "outputs": [
    {
     "data": {
      "text/latex": [
       "\\[\n",
       "\\begin{aligned}\n",
       "a &= 4 \\; \n",
       "\\\\[10pt]\n",
       "b &= 5 \\; \n",
       "\\\\[10pt]\n",
       "c &= 0.800 \\; \n",
       "\\end{aligned}\n",
       "\\]"
      ],
      "text/plain": [
       "<IPython.core.display.Latex object>"
      ]
     },
     "metadata": {},
     "output_type": "display_data"
    }
   ],
   "source": [
    "%%render \n",
    "\n",
    "a=4\n",
    "b=5\n",
    "\n",
    "\n"
   ]
  },
  {
   "cell_type": "code",
   "execution_count": 10,
   "id": "ed2e91ed-7403-427e-b9b9-2de5e61d2d7c",
   "metadata": {},
   "outputs": [
    {
     "data": {
      "text/latex": [
       "\\[\n",
       "\\begin{aligned}\n",
       "c &= 0.800 \\; \n",
       "\\end{aligned}\n",
       "\\]"
      ],
      "text/plain": [
       "<IPython.core.display.Latex object>"
      ]
     },
     "metadata": {},
     "output_type": "display_data"
    }
   ],
   "source": [
    "%%render\n",
    "c=a/b"
   ]
  },
  {
   "cell_type": "code",
   "execution_count": null,
   "id": "3cb6db24-8c90-4e01-958f-55dc4c19cfa9",
   "metadata": {},
   "outputs": [],
   "source": []
  }
 ],
 "metadata": {
  "kernelspec": {
   "display_name": "Python 3.10 (pfse)",
   "language": "python",
   "name": "pfse"
  },
  "language_info": {
   "codemirror_mode": {
    "name": "ipython",
    "version": 3
   },
   "file_extension": ".py",
   "mimetype": "text/x-python",
   "name": "python",
   "nbconvert_exporter": "python",
   "pygments_lexer": "ipython3",
   "version": "3.10.13"
  }
 },
 "nbformat": 4,
 "nbformat_minor": 5
}
