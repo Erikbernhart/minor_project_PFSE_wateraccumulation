{
 "cells": [
  {
   "cell_type": "code",
   "execution_count": 10,
   "id": "bfd5c010-f543-44bf-969b-70e9082090f3",
   "metadata": {},
   "outputs": [],
   "source": [
    "from handcalcs.decorator import handcalc\n",
    "import forallpeople as si\n",
    "\n",
    "def debit(area: float, n: float, I_r=float) -> float:\n",
    "    \"\"\"\n",
    "    calculates the debit of rainwater with the constant I_r:5*10-5 from NEN1991-1-1-3 table NB 1\n",
    "    area is in m^2, and n is the number of overloads per area.\n",
    "\n",
    "    \"\"\"\n",
    "    I_r=0.00005\n",
    "    Q_hi = (area * I_r) / n\n",
    "    return Q_hi\n",
    "\n",
    "def waterheight(width_overload: float, Q_hi: float) -> float:\n",
    "    \"\"\"\n",
    "    calculates the waterheight above the overload \n",
    "    with the debit and overload width in mm.\n",
    "    \"\"\"\n",
    "    D_ndi=0.7 * ((Q_hi / (width_overload/1000)) ** (2/3))*10**3\n",
    "    return D_ndi\n",
    "\n",
    "def water_above_roof(D_ndi: float,h_nd:float) -> float:\n",
    "    d_hw = D_ndi + h_nd\n",
    "    return d_hw\n",
    "\n",
    "def critical_height(h_nd:float,height_of_overload:float) -> float:\n",
    "    Hcrit = height_above_roof+height_of_overload - 30\n",
    "    return Hcrit\n",
    "    "
   ]
  },
  {
   "cell_type": "code",
   "execution_count": 11,
   "id": "8b47222e-1694-4888-b50a-09c09ae01326",
   "metadata": {},
   "outputs": [
    {
     "name": "stdout",
     "output_type": "stream",
     "text": [
      "0.007500000000000001\n"
     ]
    }
   ],
   "source": [
    "iets=debit(150,1)\n",
    "print(iets)\n"
   ]
  },
  {
   "cell_type": "code",
   "execution_count": 14,
   "id": "ada56171-d3ca-4457-b873-5be0aaa5ef27",
   "metadata": {},
   "outputs": [
    {
     "name": "stdout",
     "output_type": "stream",
     "text": [
      "78.42458306475038\n"
     ]
    }
   ],
   "source": [
    "iets=waterheight(200,0.0075)\n",
    "print(iets)"
   ]
  },
  {
   "cell_type": "code",
   "execution_count": 15,
   "id": "4e2f3928-9f6c-4438-8733-63b6d1db03b9",
   "metadata": {},
   "outputs": [
    {
     "name": "stdout",
     "output_type": "stream",
     "text": [
      "108.424\n"
     ]
    }
   ],
   "source": [
    "nogiets=water_above_roof(78.424,30)\n",
    "print(nogiets)"
   ]
  },
  {
   "cell_type": "code",
   "execution_count": 16,
   "id": "1c2c175f-ebef-4807-8272-622617804328",
   "metadata": {},
   "outputs": [
    {
     "name": "stdout",
     "output_type": "stream",
     "text": [
      "80\n"
     ]
    }
   ],
   "source": [
    "ff=critical_height(30,80)\n",
    "print(ff)"
   ]
  },
  {
   "cell_type": "code",
   "execution_count": null,
   "id": "43104dd9-b23b-4bc5-9e0c-8faed562ca79",
   "metadata": {},
   "outputs": [],
   "source": []
  }
 ],
 "metadata": {
  "kernelspec": {
   "display_name": "Python 3.10 (pfse)",
   "language": "python",
   "name": "pfse"
  },
  "language_info": {
   "codemirror_mode": {
    "name": "ipython",
    "version": 3
   },
   "file_extension": ".py",
   "mimetype": "text/x-python",
   "name": "python",
   "nbconvert_exporter": "python",
   "pygments_lexer": "ipython3",
   "version": "3.10.13"
  }
 },
 "nbformat": 4,
 "nbformat_minor": 5
}
